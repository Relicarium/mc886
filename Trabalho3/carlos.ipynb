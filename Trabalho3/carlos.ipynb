{
 "cells": [
  {
   "cell_type": "code",
   "execution_count": 1,
   "metadata": {},
   "outputs": [
    {
     "name": "stdout",
     "output_type": "stream",
     "text": [
      "-----------Pegando os dados----------\n",
      "-----------Montando Teste----------\n",
      "-----------Montando Treino----------\n"
     ]
    }
   ],
   "source": [
    "# Giovani Nascimento Pereira - 168609\n",
    "# Carlos Augusto Figueiredo Feire de Carvalho - 165684\n",
    "\n",
    "import numpy\n",
    "import sys\n",
    "from PIL import Image, ImageFilter\n",
    "from numpy import genfromtxt\n",
    "from sklearn.cluster import KMeans, MiniBatchKMeans, AffinityPropagation\n",
    "from sklearn.metrics import silhouette_score\n",
    "import csv\n",
    "\n",
    "nTotal = 19924\n",
    "#nTotal = 1000\n",
    "nFeatures = 2209\n",
    "nTreino = int(0.9 * nTotal)\n",
    "nTeste  = 1992\n",
    "\n",
    "#Atualizar com o caminho do csv no seu diretorio\n",
    "csvPath = \"./dataset/csv.noUp/data.csv\"\n",
    "\n",
    "\n",
    "# Pegando os dados\n",
    "print('-----------Pegando os dados----------')\n",
    "reader = csv.reader(open(csvPath, \"r\"), delimiter=\",\")\n",
    "med = list(reader)\n",
    "data= numpy.array(med).astype(\"float\")\n",
    "\n",
    "# print(data.shape)\n",
    "# Dimensao dos dados completos: (19924, 2209) -> as expected\n",
    "# 19924 documentos\n",
    "# 2209 features\n",
    "\n",
    "# Separa em teste\n",
    "print('-----------Montando Teste----------')\n",
    "X_teste = numpy.ones((nTeste, nFeatures + 1))\n",
    "for num in range(0, nTeste):\n",
    "\tX_teste[num, 1:(nFeatures+1)] = data[num, 0:nFeatures]\n",
    "\n",
    "# Separa em treino\n",
    "print('-----------Montando Treino----------')\n",
    "X_treino = numpy.ones((nTreino, nFeatures + 1))\n",
    "for num in range(0, nTreino):\n",
    "\tX_treino[num, 1:(nFeatures+1)] = data[num + nTeste, 0:nFeatures]"
   ]
  },
  {
   "cell_type": "code",
   "execution_count": null,
   "metadata": {},
   "outputs": [
    {
     "name": "stdout",
     "output_type": "stream",
     "text": [
      "Primeira parte\n",
      "\n",
      "Numero de clusters:  2\n",
      "0.0116262133258 \n",
      "\n",
      "Numero de clusters:  3\n",
      "0.0149159578913 \n",
      "\n",
      "Numero de clusters:  4\n",
      "0.0165326227568 \n",
      "\n",
      "Numero de clusters:  5\n",
      "0.017607085408 \n",
      "\n",
      "Numero de clusters:  6\n",
      "0.0186398209769 \n",
      "\n",
      "Numero de clusters:  7\n",
      "0.0200922399365 \n",
      "\n",
      "Numero de clusters:  8\n",
      "0.0209727407117 \n",
      "\n",
      "Numero de clusters:  9\n",
      "0.0228546156829 \n",
      "\n",
      "Numero de clusters:  10\n",
      "0.0248217447888 \n",
      "\n",
      "Numero de clusters:  11\n",
      "0.0247415492084 \n",
      "\n",
      "Numero de clusters:  12\n",
      "0.0286751809925 \n",
      "\n"
     ]
    }
   ],
   "source": [
    "# Define modelo do KMeans - parâmetros:\n",
    "# KMeans(n_clusters=8,\n",
    "#\t\tinit=’k-means++’,\n",
    "#\t\tn_init=10,\n",
    "#\t\tmax_iter=300,\n",
    "#\t\ttol=0.0001,\n",
    "#\t\tprecompute_distances=’auto’,\n",
    "#\t\tverbose=0, random_state=None,\n",
    "#\t\tcopy_x=True, n_jobs=1, algorithm=’auto’)\n",
    "\n",
    "kmeans = KMeans(random_state = 1)\n",
    "\n",
    "#  Primeira parte do treinamento, treinamos usando kMeans e incrementando o\n",
    "# numero de clusters a cada iteração\n",
    "#\n",
    "print('Primeira parte\\n')\n",
    "maior = 0\n",
    "id_maior = 2\n",
    "\n",
    "for i in range (2, 101):\n",
    "\t# altera o numero de clusters\n",
    "\tkmeans = KMeans(n_clusters=i)\n",
    "\tkmeans.fit(X_treino)\n",
    "\t# predição dos labels para o dataset de teste\n",
    "\tlabel_teste = kmeans.predict(X_teste)\n",
    "\tprint('Numero de clusters: ', i)\n",
    "\t# calcula e imprime os silhouette_score desse modelo com esse numero de clusters\n",
    "\tsilhouette_score_new = silhouette_score(X_teste, label_teste)\n",
    "\tprint(silhouette_score_new, '\\n')\n",
    "\t# confere qual o numero de clusters que deu melhor resultado\n",
    "\tif(silhouette_score_new > maior):\n",
    "\t\tmaior = silhouette_score_new\n",
    "\t\tid_maior = i\n",
    "\n",
    "print('Melhor cluster: ', id_maior, '\\t com silhouette_score de :', maior)\n",
    "\n",
    "# Fim do primeiro teste\n",
    "#\n",
    "#\n",
    "\n",
    "#  Segundo teste, pegamos o melhor resultado do primeiro cluster e mudamos\n",
    "# o init, que por padrão era kMeans++, p/ random\n",
    "#\n",
    "\n",
    "kmeans = KMeans(random_state = 1, init = 'random', n_clusters = id_maior)\n",
    "kmeans.fit(X_treino)\n",
    "label_teste = kmeans.predict(X_teste)\n",
    "print('Mudando o método de inicialização do centroides para random: ')\n",
    "silhouette_score_new = silhouette_score(X_teste, label_teste)\n",
    "print(silhouette_score_new, '\\n')\n",
    "\n",
    "# Fim do segundo teste\n",
    "#\n",
    "#"
   ]
  },
  {
   "cell_type": "code",
   "execution_count": 2,
   "metadata": {},
   "outputs": [
    {
     "name": "stdout",
     "output_type": "stream",
     "text": [
      "Mudando para MiniBatchKMeans temos:  0.0527491216912 \n",
      "\n"
     ]
    }
   ],
   "source": [
    "# Fazer um teste com mini-batch k-means\n",
    "#\n",
    "#\n",
    "\n",
    "miniKmeans = MiniBatchKMeans(n_clusters = 100)\n",
    "miniKmeans.fit(X_treino)\n",
    "label_mini = miniKmeans.predict(X_teste)\n",
    "print('Mudando para MiniBatchKMeans temos: ', silhouette_score(X_teste, label_mini), '\\n')\n",
    "\n",
    "#\n",
    "#\n",
    "#"
   ]
  },
  {
   "cell_type": "code",
   "execution_count": null,
   "metadata": {},
   "outputs": [],
   "source": [
    "# Fazer um teste com AffinityPropagation\n",
    "# http://scikit-learn.org/stable/auto_examples/cluster/plot_cluster_comparison.html\n",
    "#\n",
    "#\n",
    "\n",
    "affinityPropagation = AffinityPropagation()\n",
    "affinityPropagation.fit(X_treino)\n",
    "label_affinity = AffinityPropagation.predict(X_teste)\n",
    "print('Mudando para AffinityPropagation temos: ', silhouette_score(X_teste, label_affinity), '\\n')\n",
    "\n",
    "#\n",
    "#\n",
    "#\n",
    "#"
   ]
  },
  {
   "cell_type": "code",
   "execution_count": null,
   "metadata": {},
   "outputs": [],
   "source": []
  }
 ],
 "metadata": {
  "kernelspec": {
   "display_name": "Python 3",
   "language": "python",
   "name": "python3"
  },
  "language_info": {
   "codemirror_mode": {
    "name": "ipython",
    "version": 3
   },
   "file_extension": ".py",
   "mimetype": "text/x-python",
   "name": "python",
   "nbconvert_exporter": "python",
   "pygments_lexer": "ipython3",
   "version": "3.5.4"
  }
 },
 "nbformat": 4,
 "nbformat_minor": 2
}
