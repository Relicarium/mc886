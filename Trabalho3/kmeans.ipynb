{
 "cells": [
  {
   "cell_type": "markdown",
   "metadata": {},
   "source": [
    "# Estruturas Organizacionais com treinamento não Supervisionado\n",
    "## MC886 - 2S2017\n",
    "### Carlos Augusto Figueiredo Freitas de Carvalho - \n",
    "### Giovani Nascimento Pereira - 168609\n",
    "\n"
   ]
  },
  {
   "cell_type": "code",
   "execution_count": 9,
   "metadata": {},
   "outputs": [
    {
     "name": "stdout",
     "output_type": "stream",
     "text": [
      "-----------Pegando os dados----------\n",
      "------> Done\n"
     ]
    }
   ],
   "source": [
    "#Importando os dados\n",
    "\n",
    "import numpy\n",
    "import sys\n",
    "from PIL import Image, ImageFilter\n",
    "from numpy import genfromtxt\n",
    "from sklearn.cluster import KMeans\n",
    "from sklearn.metrics import silhouette_score\n",
    "import csv\n",
    "\n",
    "from sklearn import metrics\n",
    "from scipy.spatial.distance import cdist\n",
    "import matplotlib.pyplot as plt\n",
    "\n",
    "# Constantes\n",
    "nTotal = 19924\n",
    "nTotal = 1000\n",
    "nFeatures = 2209\n",
    "nTreino = int(0.9 * nTotal)\n",
    "nTeste  = 1992\n",
    "\n",
    "#Atualizar com o caminho do csv no seu diretorio\n",
    "csvPath = \"./dataset/csv.noUp/data.csv\"\n",
    "\n",
    "\n",
    "# Pegando os dados\n",
    "print('-----------Pegando os dados----------')\n",
    "reader = csv.reader(open(csvPath, \"r\"), delimiter=\",\")\n",
    "med = list(reader)\n",
    "data= numpy.array(med).astype(\"float\")\n",
    "\n",
    "# print(data.shape)\n",
    "# Dimensao dos dados completos: (19924, 2209) -> as expected\n",
    "# 19924 documentos\n",
    "# 2209 features\n",
    "\n",
    "print('------> Done')"
   ]
  },
  {
   "cell_type": "code",
   "execution_count": 10,
   "metadata": {},
   "outputs": [
    {
     "name": "stdout",
     "output_type": "stream",
     "text": [
      "-----------Montando Teste----------\n",
      "-----------Montando Treino----------\n",
      "------> Done\n"
     ]
    }
   ],
   "source": [
    "# Montando Grupo de teste e treino\n",
    "\n",
    "# Separa em teste\n",
    "print('-----------Montando Teste----------')\n",
    "X_teste = numpy.ones((nTeste, nFeatures + 1))\n",
    "for num in range(0, nTeste):\n",
    "\tX_teste[num, 1:(nFeatures+1)] = data[num, 0:nFeatures]\n",
    "\n",
    "# Separa em treino\n",
    "print('-----------Montando Treino----------')\n",
    "X_treino = numpy.ones((nTreino, nFeatures + 1))\n",
    "for num in range(0, nTreino):\n",
    "\tX_treino[num, 1:(nFeatures+1)] = data[num + nTeste, 0:nFeatures]\n",
    "    \n",
    "\n",
    "print('------> Done')"
   ]
  },
  {
   "cell_type": "markdown",
   "metadata": {},
   "source": [
    "### Definindo o Número de Clusters Silhouette\n",
    "\n",
    "Estamos usando o modelo do Kmeans inicialmente.\n",
    "O primeiro passo é descobrir quantos clusters há, para isso fazemos ums seção de repetidos treinos com número de cluster variável e guardamos o valor do *silhouette_score* para depois compreender o comportamento do modelo conforme o número de clusters aumenta."
   ]
  },
  {
   "cell_type": "code",
   "execution_count": null,
   "metadata": {},
   "outputs": [],
   "source": [
    "# Montando modelo e testando\n",
    "\n",
    "# Define modelo do KMeans - parâmetros:\n",
    "# KMeans(n_clusters=8,\n",
    "#\t\tinit=’k-means++’,\n",
    "#\t\tn_init=10,\n",
    "#\t\tmax_iter=300,\n",
    "#\t\ttol=0.0001,\n",
    "#\t\tprecompute_distances=’auto’,\n",
    "#\t\tverbose=0, random_state=None,\n",
    "#\t\tcopy_x=True, n_jobs=1, algorithm=’auto’)\n",
    "\n",
    "kmeans = KMeans(random_state = 1)\n",
    "\n",
    "#  Primeira parte do treinamento, treinamos usando kMeans e incrementando o\n",
    "# numero de clusters a cada iteração\n",
    "#\n",
    "\n",
    "maior = 0\n",
    "id_maior = 2\n",
    "\n",
    "for i in range (2, 51):\n",
    "\t# altera o numero de clusters\n",
    "\tkmeans = KMeans(n_clusters=i)\n",
    "\tkmeans.fit(X_treino)\n",
    "\t# predição dos labels para o dataset de teste\n",
    "\tlabel_teste = kmeans.predict(X_teste)\n",
    "\tprint('Numero de clusters: ', i)\n",
    "\t# calcula e imprime os silhouette_score desse modelo com esse numero de clusters\n",
    "\tsilhouette_score_new = silhouette_score(X_teste, label_teste)\n",
    "\tprint(silhouette_score_new, '\\n')\n",
    "\t# confere qual o numero de clusters que deu melhor resultado\n",
    "\tif(silhouette_score_new > maior):\n",
    "\t\tmaior = silhouette_score_new\n",
    "\t\tid_maior = i\n",
    "\n",
    "print('Melhor cluster: ', id_maior, '\\t com silhouette_score de :', maior)\n",
    "\n",
    "# Fim do primeiro teste\n",
    "#\n",
    "#\n",
    "\n",
    "#  Segundo teste, pegamos o melhor resultado do primeiro cluster e mudamos\n",
    "# o init, que por padrão era kMeans++, p/ random\n",
    "#\n",
    "\n",
    "kmeans = KMeans(random_state = 1, init = 'random', n_clusters = id_maior)\n",
    "kmeans.fit(X_treino)\n",
    "label_teste = kmeans.predict(X_teste)\n",
    "print('Mudando o método de inicialização do centroides para random: ')\n",
    "silhouette_score_new = silhouette_score(X_teste, label_teste)\n",
    "print(silhouette_score_new, '\\n')\n",
    "\n",
    "# Fim do segundo teste\n",
    "#\n",
    "#\n",
    "\n",
    "\n"
   ]
  },
  {
   "cell_type": "markdown",
   "metadata": {},
   "source": [
    "### Definindo o Número de Clusters Elbow\n",
    "\n",
    "Estamos usando o modelo do Kmeans.\n",
    "O primeiro passo é descobrir quantos clusters há, para isso fazemos ums seção de repetidos treinos com número de cluster variável e depois plotamos os valores do erro em funcao do numero de clusters, o que nos da o \"elbow graphic\".\n",
    "A partir desse grafico, podemos analisar "
   ]
  },
  {
   "cell_type": "code",
   "execution_count": 33,
   "metadata": {},
   "outputs": [
    {
     "name": "stdout",
     "output_type": "stream",
     "text": [
      "------ Definindo melhor numero de clusters pelo elbow ----\n",
      "k =  1\n",
      "k =  2\n",
      "k =  3\n",
      "k =  4\n",
      "k =  5\n",
      "k =  6\n"
     ]
    },
    {
     "data": {
      "image/png": "[encoded data removed]",
      "text/plain": [
       "<matplotlib.figure.Figure at 0x18e7f0048>"
      ]
     },
     "metadata": {},
     "output_type": "display_data"
    },
    {
     "name": "stdout",
     "output_type": "stream",
     "text": [
      "------> Done\n"
     ]
    }
   ],
   "source": [
    "# Usando o metodo do elbow\n",
    "# Reference1: https://pythonprogramminglanguage.com/kmeans-elbow-method/\n",
    "# Reference2: http://www.awesomestats.in/python-cluster-validation/\n",
    "\n",
    "print('------ Definindo melhor numero de clusters pelo elbow ----')\n",
    "kmeans = KMeans(random_state = 1)\n",
    "distortions = []\n",
    "\n",
    "X = X_treino\n",
    "\n",
    "# k means determine k\n",
    "distortions = []\n",
    "K = range(1, 7)\n",
    "for k in K:\n",
    "    print('k = ', k)\n",
    "    kmeanModel = KMeans(n_clusters=k).fit(X)\n",
    "    kmeanModel.fit(X)\n",
    "    \n",
    "    # Reference 1\n",
    "    #distortions.append(sum(numpy.min(cdist(X, kmeanModel.cluster_centers_, 'euclidean'), axis=1)) / X.shape[0])\n",
    "     \n",
    "    # Reference 2\n",
    "    distortions.append(kmeanModel.inertia_)\n",
    "\n",
    "plt.plot(K, distortions, 'o-')\n",
    "plt.xlabel('Numero de Clusters')\n",
    "plt.ylabel('Erro')\n",
    "plt.title('The Elbow Method showing the optimal k')\n",
    "plt.show()\n",
    "\n",
    "print('------> Done')"
   ]
  },
  {
   "cell_type": "code",
   "execution_count": null,
   "metadata": {
    "collapsed": true
   },
   "outputs": [],
   "source": []
  }
 ],
 "metadata": {
  "kernelspec": {
   "display_name": "Python 3",
   "language": "python",
   "name": "python3"
  },
  "language_info": {
   "codemirror_mode": {
    "name": "ipython",
    "version": 3
   },
   "file_extension": ".py",
   "mimetype": "text/x-python",
   "name": "python",
   "nbconvert_exporter": "python",
   "pygments_lexer": "ipython3",
   "version": "3.6.2"
  }
 },
 "nbformat": 4,
 "nbformat_minor": 2
}
