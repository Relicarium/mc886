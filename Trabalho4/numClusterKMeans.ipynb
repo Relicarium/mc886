{
 "cells": [
  {
   "cell_type": "code",
   "execution_count": 1,
   "metadata": {},
   "outputs": [
    {
     "name": "stdout",
     "output_type": "stream",
     "text": [
      "[[             nan              nan              nan ...,              nan\n",
      "               nan              nan]\n",
      " [  1.00000000e+00   4.00000000e+00   2.00000000e+00 ...,              nan\n",
      "    6.00000000e+00   9.14000000e+02]\n",
      " [  4.00000000e+00   3.00000000e+00   4.00000000e+00 ...,              nan\n",
      "    1.00000000e+00   8.91000000e+02]\n",
      " ..., \n",
      " [  2.00000000e+00   4.00000000e+00   2.00000000e+00 ...,              nan\n",
      "    6.00000000e+00   9.32000000e+02]\n",
      " [  4.00000000e+00   4.00000000e+00   4.00000000e+00 ...,              nan\n",
      "    2.00000000e+00   1.21200000e+03]\n",
      " [  4.00000000e+00   5.00000000e+00   4.00000000e+00 ...,              nan\n",
      "    2.00000000e+00   9.50000000e+02]]\n"
     ]
    }
   ],
   "source": [
    "import numpy\n",
    "import math\n",
    "from numpy import genfromtxt\n",
    "\n",
    "# Abrindo o CSV\n",
    "data = genfromtxt('16PF/data.csv', delimiter=',')\n",
    "print(data)"
   ]
  },
  {
   "cell_type": "code",
   "execution_count": 3,
   "metadata": {},
   "outputs": [
    {
     "name": "stdout",
     "output_type": "stream",
     "text": [
      "(49158, 163)\n",
      "[[ 4.  3.  4. ...,  2.  2.  2.]\n",
      " [ 3.  4.  4. ...,  3.  3.  3.]\n",
      " [ 4.  5.  4. ...,  3.  4.  4.]\n",
      " ..., \n",
      " [ 2.  4.  2. ...,  4.  5.  4.]\n",
      " [ 4.  4.  4. ...,  4.  5.  4.]\n",
      " [ 4.  5.  4. ...,  4.  4.  5.]]\n"
     ]
    }
   ],
   "source": [
    "# Pegando apenas as entradas\n",
    "data = data[1: , 0:163]\n",
    "\n",
    "(nData, nFeatures) = data.shape\n",
    "\n",
    "print(data.shape)\n",
    "print(data)"
   ]
  },
  {
   "cell_type": "code",
   "execution_count": 4,
   "metadata": {},
   "outputs": [
    {
     "name": "stdout",
     "output_type": "stream",
     "text": [
      "(49158, 163)\n",
      "[[ 0.6  0.2  0.6 ..., -0.2 -0.2 -0.2]\n",
      " [ 0.2  0.6  0.6 ...,  0.2  0.2  0.2]\n",
      " [ 0.6  1.   0.6 ...,  0.2  0.6  0.6]\n",
      " ..., \n",
      " [-0.2  0.6 -0.2 ...,  0.6  1.   0.6]\n",
      " [ 0.6  0.6  0.6 ...,  0.6  1.   0.6]\n",
      " [ 0.6  1.   0.6 ...,  0.6  0.6  1. ]]\n"
     ]
    }
   ],
   "source": [
    "# Normalizando os dados\n",
    "data = (data-2.5)/2.5\n",
    "\n",
    "print(data.shape)\n",
    "print(data)"
   ]
  },
  {
   "cell_type": "code",
   "execution_count": 5,
   "metadata": {},
   "outputs": [
    {
     "name": "stdout",
     "output_type": "stream",
     "text": [
      "1\n",
      "2\n",
      "3\n",
      "4\n",
      "5\n",
      "6\n",
      "7\n",
      "8\n",
      "9\n",
      "10\n",
      "11\n",
      "12\n",
      "13\n",
      "14\n",
      "15\n",
      "16\n",
      "17\n",
      "18\n",
      "19\n",
      "20\n",
      "21\n",
      "22\n",
      "23\n",
      "24\n",
      "25\n",
      "26\n",
      "27\n",
      "28\n",
      "29\n"
     ]
    }
   ],
   "source": [
    "# Clusterizando os dados\n",
    "from sklearn.cluster import KMeans\n",
    "\n",
    "# Lista dos custos vs cluster para plotar depois\n",
    "XX = [];\n",
    "YY = [];\n",
    "\n",
    "# Lista de cada clusterizacao (pra nao ter que re-rodar o algoritmo de novo)\n",
    "kmeans = [];\n",
    "\n",
    "maxClusters = 30\n",
    "\n",
    "for cc in range(1, maxClusters):\n",
    "\n",
    "    km = KMeans(\n",
    "                n_clusters=cc,\n",
    "                n_jobs=-1\n",
    "            ).fit(data)\n",
    "\n",
    "    kmeans.append(km)\n",
    "    \n",
    "    # Calcula o Custo\n",
    "\n",
    "    core = km.cluster_centers_\n",
    "    label = km.labels_\n",
    "\n",
    "    J = 0\n",
    "    for i in range(0, nData):\n",
    "        diferenca = data[i] - core[label[i]]\n",
    "        erro = math.sqrt(numpy.dot(diferenca, diferenca))\n",
    "        J = J + erro\n",
    "\n",
    "    YY.append(J)\n",
    "    XX.append(cc)\n",
    "    print(cc)\n",
    "    "
   ]
  },
  {
   "cell_type": "code",
   "execution_count": 42,
   "metadata": {},
   "outputs": [
    {
     "name": "stdout",
     "output_type": "stream",
     "text": [
      "[1, 2, 3, 4, 5, 6, 7, 8, 9, 10, 11, 12, 13, 14, 15, 16, 17, 18, 19, 20, 21, 22, 23, 24, 25, 26, 27, 28, 29]\n",
      "[137704.1578132939, 134526.24372259734, 132431.80331737146, 131119.2386530373, 130149.2264055655, 129522.22452719825, 128940.79741491933, 128436.59018709714, 127993.26975226706, 127620.39051910925, 127307.76320644472, 127004.06371972838, 126721.58178969269, 126496.65628998315, 126267.86074591416, 126082.82407218311, 125941.73187640191, 125807.712110522, 125615.27098179069, 125495.23999063706, 125315.38918212215, 125224.30786790985, 125065.23933591368, 124967.92548455275, 124825.36312421455, 124691.0805694819, 124611.75459205842, 124508.99991152779, 124405.00946013314]\n"
     ]
    },
    {
     "data": {
      "image/png": "[encoded data removed]",
      "text/plain": [
       "<matplotlib.figure.Figure at 0x7f4876df3cf8>"
      ]
     },
     "metadata": {},
     "output_type": "display_data"
    }
   ],
   "source": [
    "# Plotando os resultados\n",
    "import matplotlib.pyplot as plt\n",
    "\n",
    "print(XX)\n",
    "print(YY)\n",
    "\n",
    "plt.plot(XX, YY)\n",
    "plt.show()"
   ]
  },
  {
   "cell_type": "code",
   "execution_count": 46,
   "metadata": {},
   "outputs": [
    {
     "name": "stdout",
     "output_type": "stream",
     "text": [
      "1\n",
      "2\n",
      "3\n",
      "4\n",
      "5\n",
      "6\n",
      "7\n",
      "8\n",
      "9\n",
      "10\n",
      "11\n",
      "12\n",
      "13\n",
      "14\n",
      "15\n",
      "16\n",
      "17\n",
      "18\n",
      "19\n",
      "20\n",
      "21\n",
      "22\n",
      "23\n",
      "24\n",
      "25\n",
      "26\n",
      "27\n",
      "28\n",
      "[0.041315716872716284, 0.040415050386749619, 0.027654794220416803, 0.025244136775050673, 0.026754917108281144, 0.025802343993941223, 0.021622836654371539, 0.021735778572096767, 0.016096079862374886, 0.015864488340108882, 0.009018941930681184, 0.0071975984436171191, 0.010921668059771775, -0.002163033791401708, 0.0029094618361400651, 0.0056223447305848743, 0.0052342060035590401, 0.003276094689395262, 0.00014795465658957543, -0.001930133996089461, -0.0025977070670553039, -0.0093811555572764493, -0.0070929665661817569, -0.011866576479151585, -0.01444546435594558, -0.011234536884623543, -0.0088240219574325356, -0.0033854772750258823]\n"
     ]
    },
    {
     "data": {
      "image/png": "[encoded data removed]",
      "text/plain": [
       "<matplotlib.figure.Figure at 0x7f4870d99be0>"
      ]
     },
     "metadata": {},
     "output_type": "display_data"
    }
   ],
   "source": [
    "# Plotando a Silhueta\n",
    "from sklearn import metrics\n",
    "\n",
    "silhouette = []\n",
    "\n",
    "for cc in range(1, maxClusters-1):\n",
    "    km = kmeans[cc]\n",
    "    label = km.labels_\n",
    "    \n",
    "    print(cc)\n",
    "        \n",
    "    sh = metrics.silhouette_score(data, label, sample_size=600)\n",
    "    silhouette.append(sh)    \n",
    "    \n",
    "print(silhouette)\n",
    "\n",
    "plt.plot(XX[1:], silhouette)\n",
    "plt.show()"
   ]
  },
  {
   "cell_type": "code",
   "execution_count": 47,
   "metadata": {},
   "outputs": [
    {
     "name": "stdout",
     "output_type": "stream",
     "text": [
      "Melhor resultado:  2 clusteres with  0.0413157168727\n"
     ]
    }
   ],
   "source": [
    "# Ve qual o melhor valor da silhueta\n",
    "best = silhouette.index(max(silhouette)) + 2\n",
    "print('Melhor resultado: ', best, 'clusteres with ', silhouette[best-2])"
   ]
  },
  {
   "cell_type": "code",
   "execution_count": 23,
   "metadata": {},
   "outputs": [
    {
     "name": "stdout",
     "output_type": "stream",
     "text": [
      "Melhor resultado:  3 clusteres with  0.0775746942826\n"
     ]
    }
   ],
   "source": [
    "# Separa os grupos da melhor silhueta\n",
    "import os\n",
    "\n",
    "# Abre o dataset como strings\n",
    "with open('dataset/data.csv') as f:\n",
    "    lines = f.readlines()\n",
    "    \n",
    "    # Cria uma pasta\n",
    "    if not os.path.exists('dataset/cl'+str(best)):\n",
    "        os.mkdir('dataset/cl'+str(best))\n",
    "    \n",
    "    # Abre os arquivos de cada cluster, e escreve o header do CSV\n",
    "    out = []\n",
    "    for i in range(0, best):\n",
    "        oo = open('dataset/cl'+str(best)+'/cluster'+str(i)+'.csv', 'w')\n",
    "        oo.write(lines[0])\n",
    "        out.append(oo)\n",
    "    \n",
    "    # Para cada dado, escreve no arquivo certo do cluster\n",
    "    label = kmeans[best-1].labels_\n",
    "    for i in range(1, len(lines)):\n",
    "        out[label[i-1]].write(lines[i])\n",
    "    \n",
    "    # Fecha os arquivos de cada cluster\n",
    "    for i in range(0, best):\n",
    "        oo = out[i]\n",
    "        oo.close()\n",
    "    "
   ]
  }
 ],
 "metadata": {
  "kernelspec": {
   "display_name": "Python 3",
   "language": "python",
   "name": "python3"
  },
  "language_info": {
   "codemirror_mode": {
    "name": "ipython",
    "version": 3
   },
   "file_extension": ".py",
   "mimetype": "text/x-python",
   "name": "python",
   "nbconvert_exporter": "python",
   "pygments_lexer": "ipython3",
   "version": "3.6.2"
  }
 },
 "nbformat": 4,
 "nbformat_minor": 2
}
