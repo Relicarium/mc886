{
 "cells": [
  {
   "cell_type": "markdown",
   "metadata": {},
   "source": [
    "# Projeto Final - Identificando o número de grupos da amostra\n",
    "## MC886 - 2S2017\n",
    "### Carlos Augusto Figueiredo Freitas de Carvalho - 165684\n",
    "### Giovani Nascimento Pereira - 168609\n",
    "### Seong Eun Kim - \n",
    "### Cesar Vilela Bueno - \n",
    "\n"
   ]
  },
  {
   "cell_type": "markdown",
   "metadata": {},
   "source": [
    "A ideia dessa parte do projeto, era analisar melhor a base de dados. O esperado era que ela fosse separada em 16 clusters (já que os dados são do \"16 personalities test\").\n",
    "Esperançosamente, esse resultado poderá nos ajudar de alguma forma na classificação e no aprenizado futuro do nosso modelo."
   ]
  },
  {
   "cell_type": "code",
   "execution_count": 51,
   "metadata": {},
   "outputs": [
    {
     "name": "stdout",
     "output_type": "stream",
     "text": [
      "----> Done\n"
     ]
    }
   ],
   "source": [
    "#Bibliotecas e imports\n",
    "\n",
    "import numpy\n",
    "import sys\n",
    "from PIL import Image, ImageFilter\n",
    "from numpy import genfromtxt\n",
    "from sklearn.cluster import KMeans, MiniBatchKMeans, SpectralClustering\n",
    "from sklearn.metrics import silhouette_samples, silhouette_score, pairwise_distances\n",
    "from sklearn.decomposition import PCA\n",
    "import csv\n",
    "\n",
    "from sklearn import metrics\n",
    "from scipy.spatial.distance import cdist\n",
    "import matplotlib.pyplot as plt\n",
    "import matplotlib.cm as cm\n",
    "\n",
    "# Constantes\n",
    "nTotal = 49159\n",
    "nFeatures = 163 # + gender, age, country, accuracy\n",
    "nTreino = int(nTotal/5)\n",
    "\n",
    "print('----> Done')"
   ]
  },
  {
   "cell_type": "code",
   "execution_count": 60,
   "metadata": {},
   "outputs": [
    {
     "name": "stdout",
     "output_type": "stream",
     "text": [
      "-----------Pegando os dados----------\n",
      "(49160, 169)\n",
      "(49159, 163)\n",
      "[[ 1.  1.  1. ...,  1.  1.  1.]\n",
      " [ 1.  4.  2. ...,  2.  5.  2.]\n",
      " [ 4.  3.  4. ...,  2.  2.  2.]\n",
      " ..., \n",
      " [ 4.  5.  4. ...,  4.  4.  4.]\n",
      " [ 2.  4.  2. ...,  4.  5.  4.]\n",
      " [ 4.  4.  4. ...,  4.  5.  4.]]\n",
      "------> Done\n"
     ]
    }
   ],
   "source": [
    "#Atualizar com o caminho do csv no seu diretorio\n",
    "csvPath = \"./16PF/data.csv\"\n",
    "\n",
    "\n",
    "# Pegando os dados\n",
    "print('-----------Pegando os dados----------')\n",
    "reader = csv.reader(open(csvPath, \"r\"), delimiter=\",\")\n",
    "med = list(reader)\n",
    "data_pre= numpy.array(med)\n",
    "print(data_pre.shape)\n",
    "\n",
    "data = numpy.ones((nTotal, nFeatures))\n",
    "for num in range(1, nTotal):\n",
    "    data[num, 0:(nFeatures)] = data_pre[num, 0:nFeatures].astype(\"float\")\n",
    "#data = data_pre[2:163].astype(\"float\")\n",
    "\n",
    "print(data.shape)\n",
    "print(data)\n",
    "# O shape dos dados está correto (49159, 163)\n",
    "\n",
    "print('------> Done')"
   ]
  },
  {
   "cell_type": "code",
   "execution_count": 61,
   "metadata": {},
   "outputs": [
    {
     "name": "stdout",
     "output_type": "stream",
     "text": [
      "-----------Montando Teste----------\n",
      "[[ 1.   0.2  0.2 ...,  0.2  0.2  0.2]\n",
      " [ 1.   0.2  0.8 ...,  0.4  1.   0.4]\n",
      " [ 1.   0.8  0.6 ...,  0.4  0.4  0.4]\n",
      " ..., \n",
      " [ 1.   0.8  1.  ...,  0.4  0.6  0.8]\n",
      " [ 1.   0.8  0.8 ...,  0.6  0.4  0.6]\n",
      " [ 1.   0.8  0.8 ...,  0.8  0.8  1. ]]\n",
      "------> Done\n"
     ]
    }
   ],
   "source": [
    "# Montando Grupo para análise\n",
    "\n",
    "# Separa em teste\n",
    "print('-----------Montando Teste----------')\n",
    "X = numpy.ones((nTreino, nFeatures + 1))\n",
    "for num in range(0, nTreino):\n",
    "    X[num, 1:(nFeatures+1)] = data[num, 0:nFeatures]/5\n",
    "\n",
    "print(X)\n",
    "print('------> Done')"
   ]
  },
  {
   "cell_type": "markdown",
   "metadata": {},
   "source": [
    "### Definindo o Número de Clusters pelo Elbow\n",
    "\n",
    "Estamos usando o modelo do Kmeans.\n",
    "O primeiro passo é descobrir quantos clusters há, para isso fazemos ums seção de repetidos treinos com número de cluster variável e depois plotamos os valores do erro em funcao do numero de clusters, o que nos da o \"elbow graphic\".\n",
    "A partir desse grafico, podemos analisar "
   ]
  },
  {
   "cell_type": "code",
   "execution_count": 64,
   "metadata": {
    "scrolled": false
   },
   "outputs": [
    {
     "name": "stdout",
     "output_type": "stream",
     "text": [
      "------ Definindo melhor numero de clusters pelo elbow ----\n",
      "10 0.0\n",
      "11 0.0\n",
      "12 0.0\n",
      "13 0.0\n",
      "14 0.0\n"
     ]
    },
    {
     "data": {
      "image/png": "[encoded data removed]",
      "text/plain": [
       "<matplotlib.figure.Figure at 0x10354e630>"
      ]
     },
     "metadata": {},
     "output_type": "display_data"
    },
    {
     "data": {
      "image/png": "[encoded data removed]",
      "text/plain": [
       "<matplotlib.figure.Figure at 0x10967d6a0>"
      ]
     },
     "metadata": {},
     "output_type": "display_data"
    },
    {
     "name": "stdout",
     "output_type": "stream",
     "text": [
      "------> Done\n"
     ]
    }
   ],
   "source": [
    "# Usando o metodo do elbow\n",
    "# Reference1: https://pythonprogramminglanguage.com/kmeans-elbow-method/\n",
    "# Reference2: http://www.awesomestats.in/python-cluster-validation/\n",
    "\n",
    "print('------ Definindo melhor numero de clusters pelo elbow ----')\n",
    "#kmeans = KMeans(random_state = 1)\n",
    "#distortions = []\n",
    "\n",
    "\n",
    "# k means determine k\n",
    "distortions1 = []\n",
    "distortions2 = []\n",
    "\n",
    "K = range(10, 15)\n",
    "for k in K:\n",
    "    sys.stdout.write(str(k) + ' ')\n",
    "    kmeanModel = KMeans(n_clusters=k)\n",
    "    kmeanModel.fit(X)\n",
    "    \n",
    "    print(kmeanModel.inertia_)\n",
    "    \n",
    "    # Reference 1\n",
    "    distortions1.append(sum(numpy.min(cdist(X, kmeanModel.cluster_centers_, 'euclidean'), axis=1)) / X.shape[0])\n",
    "     \n",
    "    # Reference 2\n",
    "    distortions2.append(kmeanModel.inertia_)\n",
    "    \n",
    "plt.plot(K, distortions1, 'o-')\n",
    "plt.xlabel('Numero de Clusters')\n",
    "plt.ylabel('Erro')\n",
    "plt.title('Reference 1')\n",
    "plt.show()\n",
    "\n",
    "plt.plot(K, distortions2, 'o-')\n",
    "plt.xlabel('Numero de Clusters')\n",
    "plt.ylabel('Erro')\n",
    "plt.title('Reference 2 - .inertia_')\n",
    "plt.show()\n",
    "\n",
    "print('------> Done')"
   ]
  },
  {
   "cell_type": "markdown",
   "metadata": {},
   "source": [
    "### Definindo o Número de Clusters pelo Silhouette\n",
    "\n",
    "Estamos usando o modelo do Kmeans inicialmente.\n",
    "O modelo do elbow ainda deixou as coisas meio difíceis de serem vistas - não se formou um cotovelo muito claro, então vamos usar o metodo da Silhouette para tentar identificar melhor e ser capaz de estudar o modelo conforme o número de clusters aumenta.\n",
    "Um numero negativo significa que o método acha que aquele ponto não pertence àquele grupo, e o contrário para números positivos."
   ]
  },
  {
   "cell_type": "code",
   "execution_count": 58,
   "metadata": {
    "scrolled": true
   },
   "outputs": [
    {
     "name": "stdout",
     "output_type": "stream",
     "text": [
      "-------- Definindo melhor numero de clusters pelo Silhouette --------\n"
     ]
    },
    {
     "ename": "ValueError",
     "evalue": "Number of labels is 1. Valid values are 2 to n_samples - 1 (inclusive)",
     "output_type": "error",
     "traceback": [
      "\u001b[0;31m---------------------------------------------------------------------------\u001b[0m",
      "\u001b[0;31mValueError\u001b[0m                                Traceback (most recent call last)",
      "\u001b[0;32m<ipython-input-58-3ba2f54328ac>\u001b[0m in \u001b[0;36m<module>\u001b[0;34m()\u001b[0m\n\u001b[1;32m     30\u001b[0m   \u001b[0;31m# This gives a perspective into the density and separation of the formed\u001b[0m\u001b[0;34m\u001b[0m\u001b[0;34m\u001b[0m\u001b[0m\n\u001b[1;32m     31\u001b[0m   \u001b[0;31m# clusters\u001b[0m\u001b[0;34m\u001b[0m\u001b[0;34m\u001b[0m\u001b[0m\n\u001b[0;32m---> 32\u001b[0;31m   \u001b[0msilhouette_avg\u001b[0m \u001b[0;34m=\u001b[0m \u001b[0msilhouette_score\u001b[0m\u001b[0;34m(\u001b[0m\u001b[0mX_scaled\u001b[0m\u001b[0;34m,\u001b[0m \u001b[0mcluster_labels\u001b[0m\u001b[0;34m,\u001b[0m \u001b[0msample_size\u001b[0m \u001b[0;34m=\u001b[0m \u001b[0;36m300\u001b[0m\u001b[0;34m)\u001b[0m\u001b[0;34m\u001b[0m\u001b[0m\n\u001b[0m\u001b[1;32m     33\u001b[0m   print(\"For n_clusters =\", n_clusters,\n\u001b[1;32m     34\u001b[0m         \"The average silhouette_score is :\", silhouette_avg)\n",
      "\u001b[0;32m/usr/local/lib/python3.6/site-packages/sklearn/metrics/cluster/unsupervised.py\u001b[0m in \u001b[0;36msilhouette_score\u001b[0;34m(X, labels, metric, sample_size, random_state, **kwds)\u001b[0m\n\u001b[1;32m     99\u001b[0m         \u001b[0;32melse\u001b[0m\u001b[0;34m:\u001b[0m\u001b[0;34m\u001b[0m\u001b[0m\n\u001b[1;32m    100\u001b[0m             \u001b[0mX\u001b[0m\u001b[0;34m,\u001b[0m \u001b[0mlabels\u001b[0m \u001b[0;34m=\u001b[0m \u001b[0mX\u001b[0m\u001b[0;34m[\u001b[0m\u001b[0mindices\u001b[0m\u001b[0;34m]\u001b[0m\u001b[0;34m,\u001b[0m \u001b[0mlabels\u001b[0m\u001b[0;34m[\u001b[0m\u001b[0mindices\u001b[0m\u001b[0;34m]\u001b[0m\u001b[0;34m\u001b[0m\u001b[0m\n\u001b[0;32m--> 101\u001b[0;31m     \u001b[0;32mreturn\u001b[0m \u001b[0mnp\u001b[0m\u001b[0;34m.\u001b[0m\u001b[0mmean\u001b[0m\u001b[0;34m(\u001b[0m\u001b[0msilhouette_samples\u001b[0m\u001b[0;34m(\u001b[0m\u001b[0mX\u001b[0m\u001b[0;34m,\u001b[0m \u001b[0mlabels\u001b[0m\u001b[0;34m,\u001b[0m \u001b[0mmetric\u001b[0m\u001b[0;34m=\u001b[0m\u001b[0mmetric\u001b[0m\u001b[0;34m,\u001b[0m \u001b[0;34m**\u001b[0m\u001b[0mkwds\u001b[0m\u001b[0;34m)\u001b[0m\u001b[0;34m)\u001b[0m\u001b[0;34m\u001b[0m\u001b[0m\n\u001b[0m\u001b[1;32m    102\u001b[0m \u001b[0;34m\u001b[0m\u001b[0m\n\u001b[1;32m    103\u001b[0m \u001b[0;34m\u001b[0m\u001b[0m\n",
      "\u001b[0;32m/usr/local/lib/python3.6/site-packages/sklearn/metrics/cluster/unsupervised.py\u001b[0m in \u001b[0;36msilhouette_samples\u001b[0;34m(X, labels, metric, **kwds)\u001b[0m\n\u001b[1;32m    165\u001b[0m     \u001b[0mle\u001b[0m \u001b[0;34m=\u001b[0m \u001b[0mLabelEncoder\u001b[0m\u001b[0;34m(\u001b[0m\u001b[0;34m)\u001b[0m\u001b[0;34m\u001b[0m\u001b[0m\n\u001b[1;32m    166\u001b[0m     \u001b[0mlabels\u001b[0m \u001b[0;34m=\u001b[0m \u001b[0mle\u001b[0m\u001b[0;34m.\u001b[0m\u001b[0mfit_transform\u001b[0m\u001b[0;34m(\u001b[0m\u001b[0mlabels\u001b[0m\u001b[0;34m)\u001b[0m\u001b[0;34m\u001b[0m\u001b[0m\n\u001b[0;32m--> 167\u001b[0;31m     \u001b[0mcheck_number_of_labels\u001b[0m\u001b[0;34m(\u001b[0m\u001b[0mlen\u001b[0m\u001b[0;34m(\u001b[0m\u001b[0mle\u001b[0m\u001b[0;34m.\u001b[0m\u001b[0mclasses_\u001b[0m\u001b[0;34m)\u001b[0m\u001b[0;34m,\u001b[0m \u001b[0mX\u001b[0m\u001b[0;34m.\u001b[0m\u001b[0mshape\u001b[0m\u001b[0;34m[\u001b[0m\u001b[0;36m0\u001b[0m\u001b[0;34m]\u001b[0m\u001b[0;34m)\u001b[0m\u001b[0;34m\u001b[0m\u001b[0m\n\u001b[0m\u001b[1;32m    168\u001b[0m \u001b[0;34m\u001b[0m\u001b[0m\n\u001b[1;32m    169\u001b[0m     \u001b[0mdistances\u001b[0m \u001b[0;34m=\u001b[0m \u001b[0mpairwise_distances\u001b[0m\u001b[0;34m(\u001b[0m\u001b[0mX\u001b[0m\u001b[0;34m,\u001b[0m \u001b[0mmetric\u001b[0m\u001b[0;34m=\u001b[0m\u001b[0mmetric\u001b[0m\u001b[0;34m,\u001b[0m \u001b[0;34m**\u001b[0m\u001b[0mkwds\u001b[0m\u001b[0;34m)\u001b[0m\u001b[0;34m\u001b[0m\u001b[0m\n",
      "\u001b[0;32m/usr/local/lib/python3.6/site-packages/sklearn/metrics/cluster/unsupervised.py\u001b[0m in \u001b[0;36mcheck_number_of_labels\u001b[0;34m(n_labels, n_samples)\u001b[0m\n\u001b[1;32m     17\u001b[0m     \u001b[0;32mif\u001b[0m \u001b[0;32mnot\u001b[0m \u001b[0;36m1\u001b[0m \u001b[0;34m<\u001b[0m \u001b[0mn_labels\u001b[0m \u001b[0;34m<\u001b[0m \u001b[0mn_samples\u001b[0m\u001b[0;34m:\u001b[0m\u001b[0;34m\u001b[0m\u001b[0m\n\u001b[1;32m     18\u001b[0m         raise ValueError(\"Number of labels is %d. Valid values are 2 \"\n\u001b[0;32m---> 19\u001b[0;31m                          \"to n_samples - 1 (inclusive)\" % n_labels)\n\u001b[0m\u001b[1;32m     20\u001b[0m \u001b[0;34m\u001b[0m\u001b[0m\n\u001b[1;32m     21\u001b[0m \u001b[0;34m\u001b[0m\u001b[0m\n",
      "\u001b[0;31mValueError\u001b[0m: Number of labels is 1. Valid values are 2 to n_samples - 1 (inclusive)"
     ]
    }
   ],
   "source": [
    "# Fazendo pelo Silhouette de novo\n",
    "# Reference: http://www.awesomestats.in/python-cluster-validation/\n",
    "\n",
    "print('-------- Definindo melhor numero de clusters pelo Silhouette --------')\n",
    "\n",
    "X_scaled = X\n",
    "silhuetas_medias = []\n",
    "\n",
    "cluster_range = range( 10, 12 )\n",
    "\n",
    "for n_clusters in cluster_range:\n",
    "  # Create a subplot with 1 row and 2 columns\n",
    "  fig, (ax1, ax2) = plt.subplots(1, 2)\n",
    "  fig.set_size_inches(18, 7)\n",
    "\n",
    "  # The 1st subplot is the silhouette plot\n",
    "  # The silhouette coefficient can range from -1, 1 but in this example all\n",
    "  # lie within [-0.1, 1]\n",
    "  ax1.set_xlim([-0.1, 1])\n",
    "  # The (n_clusters+1)*10 is for inserting blank space between silhouette\n",
    "  # plots of individual clusters, to demarcate them clearly.\n",
    "  ax1.set_ylim([0, len(X_scaled) + (n_clusters + 1) * 10])\n",
    "\n",
    "  # Initialize the clusterer with n_clusters value and a random generator\n",
    "  # seed of 10 for reproducibility.\n",
    "  clusterer = KMeans(n_clusters=n_clusters, random_state=10)\n",
    "  cluster_labels = clusterer.fit_predict( X_scaled )\n",
    "\n",
    "  # The silhouette_score gives the average value for all the samples.\n",
    "  # This gives a perspective into the density and separation of the formed\n",
    "  # clusters\n",
    "  silhouette_avg = silhouette_score(X_scaled, cluster_labels, sample_size = 300)\n",
    "  print(\"For n_clusters =\", n_clusters,\n",
    "        \"The average silhouette_score is :\", silhouette_avg)\n",
    "  silhuetas_medias.append(silhouette_avg)\n",
    "\n",
    "  # Compute the silhouette scores for each sample\n",
    "  sample_silhouette_values = silhouette_samples(X_scaled, cluster_labels)\n",
    "\n",
    "  y_lower = 10\n",
    "  for i in range(n_clusters):\n",
    "      # Aggregate the silhouette scores for samples belonging to\n",
    "      # cluster i, and sort them\n",
    "      ith_cluster_silhouette_values = \\\n",
    "          sample_silhouette_values[cluster_labels == i]\n",
    "\n",
    "      ith_cluster_silhouette_values.sort()\n",
    "\n",
    "      size_cluster_i = ith_cluster_silhouette_values.shape[0]\n",
    "      y_upper = y_lower + size_cluster_i\n",
    "\n",
    "      color = cm.spectral(float(i) / n_clusters)\n",
    "      ax1.fill_betweenx(numpy.arange(y_lower, y_upper),\n",
    "                        0, ith_cluster_silhouette_values,\n",
    "                        facecolor=color, edgecolor=color, alpha=0.7)\n",
    "\n",
    "      # Label the silhouette plots with their cluster numbers at the middle\n",
    "      ax1.text(-0.05, y_lower + 0.5 * size_cluster_i, str(i))\n",
    "\n",
    "      # Compute the new y_lower for next plot\n",
    "      y_lower = y_upper + 10  # 10 for the 0 samples\n",
    "\n",
    "  ax1.set_title(\"The silhouette plot for the various clusters.\")\n",
    "  ax1.set_xlabel(\"The silhouette coefficient values\")\n",
    "  ax1.set_ylabel(\"Cluster label\")\n",
    "\n",
    "  # The vertical line for average silhoutte score of all the values\n",
    "  ax1.axvline(x=silhouette_avg, color=\"red\", linestyle=\"--\")\n",
    "\n",
    "  ax1.set_yticks([])  # Clear the yaxis labels / ticks\n",
    "  ax1.set_xticks([-0.1, 0, 0.2, 0.4, 0.6, 0.8, 1])\n",
    "\n",
    "  # 2nd Plot showing the actual clusters formed\n",
    "  colors = cm.spectral(cluster_labels.astype(float) / n_clusters)\n",
    "  ax2.scatter(X_scaled[:, 0], X_scaled[:, 1], marker='.', s=30, lw=0, alpha=0.7,\n",
    "              c=colors)\n",
    "\n",
    "  # Labeling the clusters\n",
    "  centers = clusterer.cluster_centers_\n",
    "  # Draw white circles at cluster centers\n",
    "  ax2.scatter(centers[:, 0], centers[:, 1],\n",
    "              marker='o', c=\"white\", alpha=1, s=200)\n",
    "\n",
    "  for i, c in enumerate(centers):\n",
    "      ax2.scatter(c[0], c[1], marker='$%d$' % i, alpha=1, s=50)\n",
    "\n",
    "  ax2.set_title(\"The visualization of the clustered data.\")\n",
    "  ax2.set_xlabel(\"Feature space for the 1st feature\")\n",
    "  ax2.set_ylabel(\"Feature space for the 2nd feature\")\n",
    "\n",
    "  plt.suptitle((\"Silhouette analysis for KMeans clustering on sample data \"\n",
    "                \"with n_clusters = %d\" % n_clusters),\n",
    "               fontsize=14, fontweight='bold')\n",
    "\n",
    "  plt.show()\n",
    "\n",
    "print('-----> Done')"
   ]
  },
  {
   "cell_type": "code",
   "execution_count": 6,
   "metadata": {
    "scrolled": true
   },
   "outputs": [
    {
     "data": {
      "image/png": "[encoded data removed]",
      "text/plain": [
       "<matplotlib.figure.Figure at 0x22a95b0f0>"
      ]
     },
     "metadata": {},
     "output_type": "display_data"
    },
    {
     "name": "stdout",
     "output_type": "stream",
     "text": [
      "-----> Done\n"
     ]
    }
   ],
   "source": [
    "# Vamos plotar um gráfico do valor da silhueta média para cada número de n_clusters e ver no que dá\n",
    "\n",
    "plt.plot(cluster_range, silhuetas_medias, 'o-')\n",
    "plt.xlabel('Numero de Clusters')\n",
    "plt.ylabel('avg Silhuette')\n",
    "plt.title('Valor da silhueta media pelo numero de grupos')\n",
    "plt.show()\n",
    "\n",
    "print('-----> Done')"
   ]
  },
  {
   "cell_type": "code",
   "execution_count": 12,
   "metadata": {
    "scrolled": true
   },
   "outputs": [
    {
     "name": "stdout",
     "output_type": "stream",
     "text": [
      "-------- Entendendo Dados ----------\n",
      "Media = 24.0641025641  desvio padrao = 18.0308423396\n"
     ]
    },
    {
     "data": {
      "image/png": "[encoded data removed]",
      "text/plain": [
       "<matplotlib.figure.Figure at 0x226f08b38>"
      ]
     },
     "metadata": {},
     "output_type": "display_data"
    },
    {
     "name": "stdout",
     "output_type": "stream",
     "text": [
      "Media = 26.5256410256  desvio padrao = 23.9725935179\n"
     ]
    },
    {
     "data": {
      "image/png": "[encoded data removed]",
      "text/plain": [
       "<matplotlib.figure.Figure at 0x226588fd0>"
      ]
     },
     "metadata": {},
     "output_type": "display_data"
    },
    {
     "name": "stdout",
     "output_type": "stream",
     "text": [
      "---->Done\n"
     ]
    }
   ],
   "source": [
    "# Vamos entender melhor como os dados estão aglomerados\n",
    "# Numero de objetos em cada cluster\n",
    "\n",
    "print('-------- Entendendo Dados ----------')\n",
    "\n",
    "# Calculando o numero de objetos em cada cluster - Conjunto de treino\n",
    "clusterer = KMeans(n_clusters=78, random_state=10)\n",
    "res = clusterer.fit_predict(X_treino)\n",
    "range_cluster = range(0, 78)\n",
    "n_clusters = 78\n",
    "repeticoes = numpy.ones((n_clusters))\n",
    "rep_range = range(1, len(res))\n",
    "\n",
    "#Calcula numero de repeticoes\n",
    "for i in rep_range:\n",
    "    a = res[i]\n",
    "    repeticoes[a] += 1\n",
    "\n",
    "#Calcula Media e desvio padrao\n",
    "avg_value = sum(repeticoes)/float(len(repeticoes))\n",
    "desvp = numpy.std(repeticoes)\n",
    "\n",
    "# Conjunto de treino \n",
    "print('Media =', avg_value, ' desvio padrao =', desvp)\n",
    "plt.plot(range_cluster, repeticoes, 'o-')\n",
    "plt.xlabel('Cluster')\n",
    "plt.ylabel('numero de objetos')\n",
    "plt.title('Treino')\n",
    "plt.show()\n",
    "\n",
    "\n",
    "# Calculando o numero de objetos em cada cluster - Conjunto de teste\n",
    "res = clusterer.fit_predict(X_teste)\n",
    "repeticoes = numpy.ones((n_clusters))\n",
    "rep_range = range(1, len(res))\n",
    "for i in rep_range:\n",
    "    a = res[i]\n",
    "    repeticoes[a] += 1\n",
    "    \n",
    "#Calcula Media e desvio padrao\n",
    "avg_value = sum(repeticoes)/float(len(repeticoes))\n",
    "desvp = numpy.std(repeticoes)\n",
    "    \n",
    "# Conjunto de teste\n",
    "print('Media =', avg_value, ' desvio padrao =', desvp)\n",
    "plt.plot(range_cluster, repeticoes, 'o-')\n",
    "plt.xlabel('Cluster')\n",
    "plt.ylabel('numero de objetos')\n",
    "plt.title('Teste')\n",
    "plt.show()\n",
    "\n",
    "print('---->Done')"
   ]
  },
  {
   "cell_type": "markdown",
   "metadata": {
    "collapsed": true
   },
   "source": [
    "### Outros modelos de Clusterização\n",
    "\n",
    "Depois de conseguirmos o melhor resultado com o Kmeans, passamos a testar outros modelos de clusterização para tentarmos encontrar melhores resultado.\n"
   ]
  },
  {
   "cell_type": "code",
   "execution_count": 15,
   "metadata": {},
   "outputs": [
    {
     "name": "stdout",
     "output_type": "stream",
     "text": [
      "Mudando para MiniBatchKMeans temos:  -0.0152369184224 \n",
      "\n"
     ]
    }
   ],
   "source": [
    "# Fazer um teste com mini-batch k-means\n",
    "#\n",
    "#\n",
    "miniKmeans = MiniBatchKMeans(n_clusters = 78)\n",
    "label_mini = miniKmeans.fit_predict(X_treino)\n",
    "print('Mudando para MiniBatchKMeans temos: ', silhouette_score(X_treino, label_mini), '\\n')"
   ]
  },
  {
   "cell_type": "code",
   "execution_count": 21,
   "metadata": {},
   "outputs": [
    {
     "name": "stdout",
     "output_type": "stream",
     "text": [
      "Numero de clusters:  78\n",
      "Mudando para K-Medoids temos:  0.0476824143376 \n",
      "\n"
     ]
    }
   ],
   "source": [
    "# MEDOIDS\n",
    "# https://github.com/salspaugh/machine_learning/blob/master/clustering/kmedoids.py\n",
    "\n",
    "distancia_treino = pairwise_distances(X_treino, metric='euclidean')\n",
    "clusters, medoids = kmedoids.cluster(distancia_treino, 78)\n",
    "print('Numero de clusters: ', 78)\n",
    "print('Mudando para K-Medoids temos: ', silhouette_score(X_treino, clusters), '\\n')\n",
    "\n",
    "#\n",
    "#"
   ]
  },
  {
   "cell_type": "markdown",
   "metadata": {},
   "source": [
    "### Aplicando PCA\n",
    "\n",
    "Com o resultado do silhouette_score não tendo melhorado muito, uma outra técnica para tentr melhorar nosso modelo de clusterização era reduzia a dimensionalidade dos dados - e para isso usamos o PCA"
   ]
  },
  {
   "cell_type": "code",
   "execution_count": 35,
   "metadata": {
    "scrolled": true
   },
   "outputs": [
    {
     "name": "stdout",
     "output_type": "stream",
     "text": [
      "1 -0.0327808072678\n",
      "2 -0.040649988016\n",
      "2 -0.0402021052939\n",
      "3 -0.0300321403825\n",
      "4 -0.0272460454811\n",
      "5 -0.0211285909964\n",
      "6 -0.0181001769663\n",
      "7 -0.0169115855944\n",
      "8 -0.0128591818478\n",
      "9 -0.00827878183945\n",
      "11 -0.00500227010405\n",
      "12 -0.00531045865874\n",
      "13 -0.00223750195183\n",
      "15 0.00058385206908\n",
      "17 -0.0013869137779\n",
      "18 0.00268503163557\n",
      "20 0.00535564206291\n",
      "22 0.0111097064564\n",
      "24 0.00731605819796\n",
      "26 0.0135418055627\n",
      "29 0.0191633351698\n",
      "31 0.0233282770073\n",
      "34 0.0247126068819\n",
      "36 0.0268520368892\n",
      "39 0.0321486139788\n",
      "42 0.028642049239\n",
      "45 0.0386641423648\n",
      "48 0.0376205477149\n",
      "51 0.0452516219106\n",
      "55 0.0466560923334\n",
      "58 0.0445475524665\n",
      "62 0.0512595800815\n",
      "66 0.0556261833216\n",
      "70 0.0517844904598\n",
      "74 0.0536334528041\n",
      "79 0.0565521016974\n",
      "83 0.0570230531541\n",
      "88 0.0571665442229\n",
      "93 0.0586466537106\n",
      "98 0.057413322013\n",
      "104 0.0559489587775\n",
      "109 0.0592348469639\n",
      "115 0.0585571070053\n",
      "120 0.057374992718\n",
      "126 0.0530549169839\n",
      "132 0.0556203389119\n",
      "139 0.0568581106355\n",
      "145 0.0588853125293\n",
      "152 0.0588246537581\n",
      "159 0.0573740921324\n",
      "166 0.0588901346989\n",
      "174 0.0552774638284\n",
      "181 0.0555177516009\n",
      "189 0.0573796691365\n",
      "197 0.0565273445754\n",
      "205 0.0573031789802\n",
      "214 0.0585994753071\n",
      "222 0.0556293330391\n",
      "231 0.0559568339073\n",
      "241 0.0594014186295\n",
      "250 0.0577962723556\n",
      "260 0.054557539557\n",
      "270 0.0584671928082\n",
      "281 0.0575303324016\n",
      "292 0.0594234359284\n",
      "303 0.060089442137\n",
      "314 0.058070395177\n",
      "326 0.0569134070818\n",
      "338 0.0584084845294\n",
      "351 0.0562902770089\n",
      "364 0.0603687987849\n",
      "377 0.0589269615449\n",
      "391 0.0549514477797\n",
      "405 0.0579515927765\n",
      "420 0.0563882478323\n",
      "436 0.0593645444361\n",
      "452 0.0571641889444\n",
      "469 0.0564751841588\n",
      "486 0.057181862027\n",
      "504 0.0576978787824\n",
      "523 0.0588463891664\n",
      "543 0.0545500734083\n",
      "564 0.0571775479854\n",
      "586 0.0578629681498\n",
      "609 0.0585263426925\n",
      "634 0.0569868657062\n",
      "660 0.0576593867173\n",
      "688 0.056635084859\n",
      "718 0.0574164765348\n",
      "750 0.0591383325903\n",
      "784 0.0599856693684\n",
      "822 0.0547588817048\n",
      "864 0.0582647691976\n",
      "911 0.056268608717\n",
      "964 0.0557498837383\n",
      "1026 0.0601922174886\n",
      "1101 0.0568373089902\n",
      "1198 0.0533036379801\n",
      "1340 0.0535736816645\n"
     ]
    }
   ],
   "source": [
    "#\tAPLICANDO PCA\n",
    "#\n",
    "#\n",
    "for i in range (1, 100):\n",
    "    pca = PCA(n_components= i/100, svd_solver='full')\n",
    "    X_treino_pca = pca.fit_transform(X_treino)\n",
    "    kmeans_pca = KMeans(n_clusters=78)\n",
    "    label_teste = kmeans_pca.fit_predict(X_treino_pca)\n",
    "\n",
    "    #print('Aplicando PCA no nosso melhor modelo com clusters:', 78, 'e variancia: ', i/10)\n",
    "    # calcula e imprime os silhouette_score desse modelo com esse numero de clusters\n",
    "    silhouette_score_new = silhouette_score(X_treino, label_teste)\n",
    "    print(X_treino_pca.shape[1], silhouette_score_new)\n",
    "\n",
    "#\n",
    "#\n",
    "#"
   ]
  },
  {
   "cell_type": "code",
   "execution_count": null,
   "metadata": {
    "collapsed": true
   },
   "outputs": [],
   "source": []
  },
  {
   "cell_type": "code",
   "execution_count": null,
   "metadata": {
    "collapsed": true
   },
   "outputs": [],
   "source": []
  }
 ],
 "metadata": {
  "kernelspec": {
   "display_name": "Python 3",
   "language": "python",
   "name": "python3"
  },
  "language_info": {
   "codemirror_mode": {
    "name": "ipython",
    "version": 3
   },
   "file_extension": ".py",
   "mimetype": "text/x-python",
   "name": "python",
   "nbconvert_exporter": "python",
   "pygments_lexer": "ipython3",
   "version": "3.6.2"
  }
 },
 "nbformat": 4,
 "nbformat_minor": 2
}
